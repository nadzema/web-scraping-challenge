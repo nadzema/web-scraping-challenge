{
 "cells": [
  {
   "cell_type": "code",
   "execution_count": 1,
   "metadata": {},
   "outputs": [],
   "source": [
    "from splinter import Browser \n",
    "from bs4 import BeautifulSoup\n",
    "import pandas as pd\n",
    "from webdriver_manager.chrome import ChromeDriverManager\n",
    "import requests\n",
    "import pymongo\n",
    "from flask import Flask, render_template"
   ]
  },
  {
   "cell_type": "code",
   "execution_count": 2,
   "metadata": {},
   "outputs": [
    {
     "name": "stderr",
     "output_type": "stream",
     "text": [
      "[WDM] - ====== WebDriver manager ======\n",
      "[WDM] - Current google-chrome version is 89.0.4389\n",
      "[WDM] - Get LATEST driver version for 89.0.4389\n"
     ]
    },
    {
     "name": "stdout",
     "output_type": "stream",
     "text": [
      "\n",
      "\n"
     ]
    },
    {
     "name": "stderr",
     "output_type": "stream",
     "text": [
      "[WDM] - Get LATEST driver version for 89.0.4389\n",
      "[WDM] - Trying to download new driver from https://chromedriver.storage.googleapis.com/89.0.4389.23/chromedriver_win32.zip\n",
      "[WDM] - Driver has been saved in cache [C:\\Users\\nadzema\\.wdm\\drivers\\chromedriver\\win32\\89.0.4389.23]\n"
     ]
    }
   ],
   "source": [
    "# Setup splinter\n",
    "executable_path = {'executable_path': ChromeDriverManager().install()}\n",
    "browser = Browser('chrome', **executable_path, headless=False)"
   ]
  },
  {
   "cell_type": "code",
   "execution_count": 3,
   "metadata": {},
   "outputs": [],
   "source": [
    "Mars_nasa_url = 'https://mars.nasa.gov/news/?page=0&per_page=40&order=publish_date+desc%2Ccreated_at+desc&search=&category=19%2C165%2C184%2C204&blank_scope=Latest'\n",
    "browser.visit(Mars_nasa_url)"
   ]
  },
  {
   "cell_type": "code",
   "execution_count": 4,
   "metadata": {},
   "outputs": [],
   "source": [
    "#create HTML object\n",
    "html = browser.html\n",
    "#parse HTML with BEAUTIFULSOUP\n",
    "soup = BeautifulSoup(html, 'html.parser')"
   ]
  },
  {
   "cell_type": "code",
   "execution_count": 5,
   "metadata": {},
   "outputs": [
    {
     "name": "stdout",
     "output_type": "stream",
     "text": [
      "NASA Ingenuity Mars Helicopter Prepares for First Flight\n",
      "<li class=\"slide\"><div class=\"image_and_description_container\"><a href=\"/news/8896/nasa-ingenuity-mars-helicopter-prepares-for-first-flight/\" target=\"_self\"><div class=\"rollover_description\"><div class=\"rollover_description_inner\">Now uncocooned from its protective carbon-fiber shield, the helicopter is being readied for its next steps.  </div><div class=\"overlay_arrow\"><img alt=\"More\" src=\"/assets/overlay-arrow.png\"/></div></div><div class=\"list_image\"><img alt=\"An illustration of NASA’s Ingenuity Helicopter flying on Mars. \" src=\"/system/news_items/list_view_images/8896_thumb-320.jpg\"/></div><div class=\"bottom_gradient\"><div><h3>NASA Ingenuity Mars Helicopter Prepares for First Flight</h3></div></div></a><div class=\"list_text\"><div class=\"list_date\">March 23, 2021</div><div class=\"content_title\"><a href=\"/news/8896/nasa-ingenuity-mars-helicopter-prepares-for-first-flight/\" target=\"_self\">NASA Ingenuity Mars Helicopter Prepares for First Flight</a></div><div class=\"article_teaser_body\">Now uncocooned from its protective carbon-fiber shield, the helicopter is being readied for its next steps.  </div></div></div></li>\n"
     ]
    }
   ],
   "source": [
    "#visit the website NASA url\n",
    "first_item = soup.find('li', class_='slide')\n",
    "\n",
    "#\n",
    "title = first_item.find('div', class_='content_title').text\n",
    "print(title)\n",
    "print(first_item)"
   ]
  },
  {
   "cell_type": "code",
   "execution_count": 6,
   "metadata": {},
   "outputs": [
    {
     "name": "stdout",
     "output_type": "stream",
     "text": [
      "NASA Ingenuity Mars Helicopter Prepares for First Flight\n",
      "Now uncocooned from its protective carbon-fiber shield, the helicopter is being readied for its next steps.  \n"
     ]
    }
   ],
   "source": [
    "news_p = first_item.find('div', class_='article_teaser_body').text\n",
    "print(title)\n",
    "print (news_p)"
   ]
  },
  {
   "cell_type": "code",
   "execution_count": 7,
   "metadata": {},
   "outputs": [
    {
     "name": "stderr",
     "output_type": "stream",
     "text": [
      "[WDM] - ====== WebDriver manager ======\n",
      "[WDM] - Current google-chrome version is 89.0.4389\n",
      "[WDM] - Get LATEST driver version for 89.0.4389\n"
     ]
    },
    {
     "name": "stdout",
     "output_type": "stream",
     "text": [
      "\n",
      "\n"
     ]
    },
    {
     "name": "stderr",
     "output_type": "stream",
     "text": [
      "[WDM] - Driver [C:\\Users\\nadzema\\.wdm\\drivers\\chromedriver\\win32\\89.0.4389.23\\chromedriver.exe] found in cache\n"
     ]
    }
   ],
   "source": [
    "# Setup splinter again for a different url\n",
    "executable_path = {'executable_path': ChromeDriverManager().install()}\n",
    "browser = Browser('chrome', **executable_path, headless=False)"
   ]
  },
  {
   "cell_type": "code",
   "execution_count": 8,
   "metadata": {},
   "outputs": [],
   "source": [
    "images_url = 'https://www.jpl.nasa.gov/images?search=&category=Mars'\n",
    "browser.visit(images_url)"
   ]
  },
  {
   "cell_type": "code",
   "execution_count": 9,
   "metadata": {},
   "outputs": [],
   "source": [
    "html2 = browser.html\n",
    "soup2 = BeautifulSoup(html2, 'html.parser')"
   ]
  },
  {
   "cell_type": "code",
   "execution_count": 13,
   "metadata": {},
   "outputs": [
    {
     "name": "stdout",
     "output_type": "stream",
     "text": [
      "[<img alt=\"\" class=\"BaseImage object-contain\" data-src=\"https://d2pn8kiwq2w21t.cloudfront.net/images/jpegPIA24510.2e16d0ba.fill-400x400-c50.jpg\" loading=\"lazy\" src=\"https://d2pn8kiwq2w21t.cloudfront.net/images/jpegPIA24510.2e16d0ba.fill-400x400-c50.jpg\"/>, <img alt=\"\" class=\"BaseImage object-contain\" data-src=\"https://d2pn8kiwq2w21t.cloudfront.net/images/jpegPIA24168.2e16d0ba.fill-400x400-c50.jpg\" loading=\"lazy\" src=\"https://d2pn8kiwq2w21t.cloudfront.net/images/jpegPIA24168.2e16d0ba.fill-400x400-c50.jpg\"/>, <img alt=\"\" class=\"BaseImage object-contain\" data-src=\"https://d2pn8kiwq2w21t.cloudfront.net/images/jpegPIA24551.2e16d0ba.fill-400x400-c50.jpg\" loading=\"lazy\" src=\"https://d2pn8kiwq2w21t.cloudfront.net/images/jpegPIA24551.2e16d0ba.fill-400x400-c50.jpg\"/>, <img alt=\"\" class=\"BaseImage object-contain\" data-src=\"https://d2pn8kiwq2w21t.cloudfront.net/images/jpegPIA23810.782bec40.fill-400x400-c50.jpg\" loading=\"lazy\" src=\"https://d2pn8kiwq2w21t.cloudfront.net/images/jpegPIA23810.782bec40.fill-400x400-c50.jpg\"/>, <img alt=\"\" class=\"BaseImage object-contain\" data-src=\"https://d2pn8kiwq2w21t.cloudfront.net/images/jpegPIA24509.2e16d0ba.fill-400x400-c50.jpg\" loading=\"lazy\" src=\"https://d2pn8kiwq2w21t.cloudfront.net/images/jpegPIA24509.2e16d0ba.fill-400x400-c50.jpg\"/>, <img alt=\"\" class=\"BaseImage object-contain\" data-src=\"https://d2pn8kiwq2w21t.cloudfront.net/images/jpegPIA24138.c20e9e27.fill-400x400-c50.jpg\" loading=\"lazy\" src=\"https://d2pn8kiwq2w21t.cloudfront.net/images/jpegPIA24138.c20e9e27.fill-400x400-c50.jpg\"/>, <img alt=\"\" class=\"BaseImage object-contain\" data-src=\"https://d2pn8kiwq2w21t.cloudfront.net/images/jpegPIA24137.2e16d0ba.fill-400x400-c50.jpg\" loading=\"lazy\" src=\"https://d2pn8kiwq2w21t.cloudfront.net/images/jpegPIA24137.2e16d0ba.fill-400x400-c50.jpg\"/>, <img alt=\"\" class=\"BaseImage object-contain\" data-src=\"https://d2pn8kiwq2w21t.cloudfront.net/images/jpegPIA24508.2e16d0ba.fill-400x400-c50.jpg\" loading=\"lazy\" src=\"https://d2pn8kiwq2w21t.cloudfront.net/images/jpegPIA24508.2e16d0ba.fill-400x400-c50.jpg\"/>, <img alt=\"\" class=\"BaseImage object-contain\" data-src=\"https://d2pn8kiwq2w21t.cloudfront.net/images/jpegPIA24435.2e16d0ba.fill-400x400-c50.jpg\" loading=\"lazy\" src=\"https://d2pn8kiwq2w21t.cloudfront.net/images/jpegPIA24435.2e16d0ba.fill-400x400-c50.jpg\"/>, <img alt=\"\" class=\"BaseImage object-contain\" data-src=\"https://d2pn8kiwq2w21t.cloudfront.net/images/jpegPIA24497.2e16d0ba.fill-400x400-c50.jpg\" loading=\"lazy\" src=\"https://d2pn8kiwq2w21t.cloudfront.net/images/jpegPIA24497.2e16d0ba.fill-400x400-c50.jpg\"/>]\n"
     ]
    }
   ],
   "source": [
    "#visit the url \n",
    "featured_image_url = soup2.find_all('img', class_='src')\n",
    "print(featured_image_url)"
   ]
  },
  {
   "cell_type": "code",
   "execution_count": null,
   "metadata": {},
   "outputs": [],
   "source": []
  }
 ],
 "metadata": {
  "kernelspec": {
   "display_name": "Python 3",
   "language": "python",
   "name": "python3"
  },
  "language_info": {
   "codemirror_mode": {
    "name": "ipython",
    "version": 3
   },
   "file_extension": ".py",
   "mimetype": "text/x-python",
   "name": "python",
   "nbconvert_exporter": "python",
   "pygments_lexer": "ipython3",
   "version": "3.8.5"
  }
 },
 "nbformat": 4,
 "nbformat_minor": 4
}
